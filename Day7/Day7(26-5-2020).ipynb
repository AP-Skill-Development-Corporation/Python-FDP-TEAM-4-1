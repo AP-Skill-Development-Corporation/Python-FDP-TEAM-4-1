{
 "cells": [
  {
   "cell_type": "markdown",
   "metadata": {},
   "source": [
    "# Good Morning to All"
   ]
  },
  {
   "cell_type": "code",
   "execution_count": 27,
   "metadata": {},
   "outputs": [
    {
     "name": "stdout",
     "output_type": "stream",
     "text": [
      ":: || ** () [] ** :: \n",
      "() || () :: ** :: () \n",
      "## || ## ## ## ## ## \n",
      "() || ** [] () ** () \n",
      "{} || {} \n"
     ]
    }
   ],
   "source": [
    "s = 1\n",
    "for r in range(1,6):\n",
    "    for c in range(1,8):\n",
    "        if s>31:\n",
    "            break\n",
    "        elif c==2:\n",
    "            print(\"{}\".format(\"||\"),end=\" \")\n",
    "        elif r==3:\n",
    "            print(\"{}\".format(\"##\"),end=\" \")\n",
    "        elif s%3==0:\n",
    "            print(\"{}\".format(\"**\"),end=\" \")\n",
    "        elif s%2==0:\n",
    "            print(\"{}\".format(\"()\"),end=\" \")\n",
    "        elif s%5==0:\n",
    "            print(\"{}\".format(\"[]\"),end=\" \")\n",
    "        elif s>15:\n",
    "            print(\"{}\".format(\"{}\"),end=\" \")\n",
    "        elif s<15:\n",
    "            print(\"{}\".format(\"::\"),end=\" \")\n",
    "        else:\n",
    "            print(\"{:02}\".format(s),end=\" \")\n",
    "        s += 1 # s = s+1\n",
    "    print(end=\"\\n\")\n",
    "    "
   ]
  },
  {
   "cell_type": "code",
   "execution_count": 29,
   "metadata": {},
   "outputs": [
    {
     "name": "stdout",
     "output_type": "stream",
     "text": [
      "5,3,6\n"
     ]
    }
   ],
   "source": [
    "a = 3\n",
    "b = 5\n",
    "c = 6\n",
    "print(\"{1},{0},{2}\".format(a,b,c))"
   ]
  },
  {
   "cell_type": "markdown",
   "metadata": {},
   "source": [
    "# Packages and Modules\n",
    "### Packages\n",
    "   * it is the folder in that we can store python files\n",
    "   * Collection of Modules it is packages\n",
    "### Modules\n",
    "   * it is a collection of function or classes\n",
    "    \n",
    "   **types of Modules**\n",
    "       * defult Modules\n",
    "       * user defined Modules"
   ]
  },
  {
   "cell_type": "code",
   "execution_count": 1,
   "metadata": {},
   "outputs": [],
   "source": [
    "# User Define Modules\n",
    "import Maths\n",
    "#Maths.addition(23,43)"
   ]
  },
  {
   "cell_type": "code",
   "execution_count": 2,
   "metadata": {},
   "outputs": [
    {
     "data": {
      "text/plain": [
       "['__builtins__',\n",
       " '__cached__',\n",
       " '__doc__',\n",
       " '__file__',\n",
       " '__loader__',\n",
       " '__name__',\n",
       " '__package__',\n",
       " '__spec__',\n",
       " 'addition',\n",
       " 'sub']"
      ]
     },
     "execution_count": 2,
     "metadata": {},
     "output_type": "execute_result"
    }
   ],
   "source": [
    "dir(Maths)"
   ]
  },
  {
   "cell_type": "code",
   "execution_count": 5,
   "metadata": {},
   "outputs": [
    {
     "data": {
      "text/plain": [
       "3"
      ]
     },
     "execution_count": 5,
     "metadata": {},
     "output_type": "execute_result"
    }
   ],
   "source": [
    "Maths.sub(10,2,5)"
   ]
  },
  {
   "cell_type": "code",
   "execution_count": 2,
   "metadata": {},
   "outputs": [],
   "source": [
    "import simple1"
   ]
  },
  {
   "cell_type": "code",
   "execution_count": 2,
   "metadata": {},
   "outputs": [
    {
     "data": {
      "text/plain": [
       "['__builtins__',\n",
       " '__cached__',\n",
       " '__doc__',\n",
       " '__file__',\n",
       " '__loader__',\n",
       " '__name__',\n",
       " '__package__',\n",
       " '__spec__',\n",
       " 'iseven']"
      ]
     },
     "execution_count": 2,
     "metadata": {},
     "output_type": "execute_result"
    }
   ],
   "source": [
    "dir(simple1)"
   ]
  },
  {
   "cell_type": "code",
   "execution_count": 3,
   "metadata": {},
   "outputs": [
    {
     "name": "stdout",
     "output_type": "stream",
     "text": [
      "2 4 6 8 10 12 14 16 18 20 22 24 26 28 30 32 34 36 38 40 42 44 46 48 50 52 54 56 58 60 62 64 66 68 70 72 74 76 78 80 82 84 86 88 90 92 94 96 98 100 "
     ]
    }
   ],
   "source": [
    "simple1.iseven(100)"
   ]
  },
  {
   "cell_type": "markdown",
   "metadata": {},
   "source": [
    "# Packages"
   ]
  },
  {
   "cell_type": "code",
   "execution_count": null,
   "metadata": {},
   "outputs": [],
   "source": []
  },
  {
   "cell_type": "code",
   "execution_count": 15,
   "metadata": {},
   "outputs": [
    {
     "name": "stdout",
     "output_type": "stream",
     "text": [
      "7 * 1 = 7\n",
      "7 * 2 = 14\n",
      "7 * 3 = 21\n",
      "7 * 4 = 28\n",
      "7 * 5 = 35\n",
      "7 * 6 = 42\n",
      "7 * 7 = 49\n",
      "7 * 8 = 56\n",
      "7 * 9 = 63\n",
      "7 * 10 = 70\n"
     ]
    }
   ],
   "source": [
    "from package import maths\n",
    "maths.mul(7)"
   ]
  },
  {
   "cell_type": "code",
   "execution_count": 18,
   "metadata": {},
   "outputs": [],
   "source": [
    "from samplepac import sample as s"
   ]
  },
  {
   "cell_type": "code",
   "execution_count": 19,
   "metadata": {},
   "outputs": [
    {
     "data": {
      "text/plain": [
       "['__builtins__',\n",
       " '__cached__',\n",
       " '__doc__',\n",
       " '__file__',\n",
       " '__loader__',\n",
       " '__name__',\n",
       " '__package__',\n",
       " '__spec__',\n",
       " 'sub',\n",
       " 'sum1']"
      ]
     },
     "execution_count": 19,
     "metadata": {},
     "output_type": "execute_result"
    }
   ],
   "source": [
    "dir(s)"
   ]
  },
  {
   "cell_type": "markdown",
   "metadata": {},
   "source": [
    "# File Handling"
   ]
  },
  {
   "cell_type": "markdown",
   "metadata": {},
   "source": [
    "* It is collection of data\n",
    "* it is srore tha data permenetly\n",
    "**Types of files**\n",
    ".txt\n",
    ".csv\n",
    ".py\n",
    ".html\n",
    ".png\n",
    ".jpg\n"
   ]
  },
  {
   "cell_type": "markdown",
   "metadata": {},
   "source": [
    "### Procedure to work on Files:\n",
    "* need to open a file\n",
    "* based on requirement we can perform related action\n",
    "* Close file\n",
    "### Syntax\n",
    "`\n",
    "variable_Name = open(\"file location\",\"Modes\")\n",
    "..........\n",
    "variable_name.close()\n",
    "`"
   ]
  },
  {
   "cell_type": "code",
   "execution_count": null,
   "metadata": {},
   "outputs": [],
   "source": [
    "w ---> mode\n",
    "r ---> mode\n",
    "a ---> mode"
   ]
  },
  {
   "cell_type": "code",
   "execution_count": 25,
   "metadata": {},
   "outputs": [
    {
     "name": "stdout",
     "output_type": "stream",
     "text": [
      "Welcome to Python\n",
      "Welcome To Apssdc\n",
      "1\n",
      "2\n",
      "3\n",
      "4\n",
      "5\n",
      "6\n"
     ]
    }
   ],
   "source": [
    "f = open(\"writemode.txt\",\"r\")\n",
    "print(f.read())\n",
    "f.close()"
   ]
  },
  {
   "cell_type": "code",
   "execution_count": 29,
   "metadata": {},
   "outputs": [],
   "source": [
    "f = open(\"writemode.txt\",\"w\")\n",
    "f.write(\"hai how are you \\n\")\n",
    "f.write(\"Welcome to Python\\t\")\n",
    "f.write(\"Hello\")\n",
    "f.close()"
   ]
  },
  {
   "cell_type": "code",
   "execution_count": 34,
   "metadata": {},
   "outputs": [],
   "source": [
    "f = open(\"numbers.txt\",\"w\")\n",
    "f.write(\"1\\t\"+\"2\\t\"+\"3\\t\")\n",
    "f.close()"
   ]
  },
  {
   "cell_type": "code",
   "execution_count": 35,
   "metadata": {},
   "outputs": [],
   "source": [
    "f = open(\"numbers.txt\",\"a\")\n",
    "f.write(\"4\\t\"+\"5\\t\"+\"6\\t\")\n",
    "f.close()"
   ]
  },
  {
   "cell_type": "code",
   "execution_count": 40,
   "metadata": {},
   "outputs": [],
   "source": [
    "f = open(\"numbers.txt\",\"w\")\n",
    "for i in range(1,11):\n",
    "    f.write(str(i)+\"\\n\")\n",
    "f.close()"
   ]
  },
  {
   "cell_type": "code",
   "execution_count": 50,
   "metadata": {},
   "outputs": [
    {
     "name": "stdout",
     "output_type": "stream",
     "text": [
      "55\n"
     ]
    }
   ],
   "source": [
    "f = open(\"numbers.txt\",\"r\")\n",
    "#print(f.read())\n",
    "#print(type(f.read()))\n",
    "s = 0\n",
    "for i in f.read().split():\n",
    "    s += int(i)\n",
    "print(s)\n",
    "f.close()"
   ]
  },
  {
   "cell_type": "code",
   "execution_count": 61,
   "metadata": {},
   "outputs": [
    {
     "name": "stdout",
     "output_type": "stream",
     "text": [
      "8219323904384081959107891041008804467357073011103444105405558617080947489922006726104766105104301982957307100192750108910251851094630793207339310009922220681010082651056785000373126648746670380741321018791009482545643136622375310270809145865257226826715363610184682034225361191065210114211108210201250991044553140109463902010105416019316729498456230210431094332100016498934028520853015110409090042078300110388439915031076482656018059984095334108711009210101024071087946661011021035370708235842939788101007045143331087954010399691100509365079210521089710288811040641878091010044662945679173731051036953401197357637255621001034972528835109621226260475311026239516571028268339296610091051033327569569467100107801288301053145104198781093629270450671028021476917195917581049396601009107263410210678357610061002901033118510482053423070010815201933840005797991220924610458054949699083010653521643101220241029349895422996938850930201021110104805305109841110273872701048642103031068004308668525210135602173182103010976053043221085101053691066042336310009510605699321041008205714504910191004610063732930546695"
     ]
    }
   ],
   "source": [
    "import random\n",
    "for i in range(1000):\n",
    "    print(random.randint(0,10),end=\"\")"
   ]
  },
  {
   "cell_type": "code",
   "execution_count": 66,
   "metadata": {},
   "outputs": [],
   "source": [
    "import random\n",
    "s = open(\"numbers.txt\",\"w\")\n",
    "for i in range(1000):\n",
    "    s.write(str(random.randint(0,100))+\"\\n\")\n",
    "s.close()"
   ]
  },
  {
   "cell_type": "markdown",
   "metadata": {},
   "source": [
    "#### Task1:\n",
    "`    \n",
    "create marks.txt\n",
    "defien a function to generate students Marks using random method\n",
    "define function to disply all students marks\n",
    "define function to find failed students count\n",
    "define function to find passed students count\n",
    "define function to find students count who got above 80 persontage\n",
    "`"
   ]
  },
  {
   "cell_type": "code",
   "execution_count": 74,
   "metadata": {},
   "outputs": [
    {
     "name": "stdout",
     "output_type": "stream",
     "text": [
      "Pas%:  643\n"
     ]
    }
   ],
   "source": [
    "f = open(\"numbers.txt\",\"r\")\n",
    "pas = 0\n",
    "for i in f.read().split():\n",
    "    if int(i) >= 35:\n",
    "        pas += 1\n",
    "print(\"Pas%: \",pas)\n",
    "    "
   ]
  },
  {
   "cell_type": "code",
   "execution_count": 77,
   "metadata": {},
   "outputs": [
    {
     "data": {
      "text/plain": [
       "(3, 7, 1)"
      ]
     },
     "execution_count": 77,
     "metadata": {},
     "output_type": "execute_result"
    }
   ],
   "source": [
    "def hai(a=1,b=1,c=1):\n",
    "    return(a,b,c)\n",
    "hai(3,7)"
   ]
  },
  {
   "cell_type": "code",
   "execution_count": null,
   "metadata": {},
   "outputs": [],
   "source": []
  }
 ],
 "metadata": {
  "kernelspec": {
   "display_name": "Python 3",
   "language": "python",
   "name": "python3"
  },
  "language_info": {
   "codemirror_mode": {
    "name": "ipython",
    "version": 3
   },
   "file_extension": ".py",
   "mimetype": "text/x-python",
   "name": "python",
   "nbconvert_exporter": "python",
   "pygments_lexer": "ipython3",
   "version": "3.7.4"
  }
 },
 "nbformat": 4,
 "nbformat_minor": 2
}
